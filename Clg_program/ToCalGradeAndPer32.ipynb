{
 "cells": [
  {
   "cell_type": "code",
   "execution_count": 1,
   "id": "151f36d7",
   "metadata": {},
   "outputs": [
    {
     "name": "stdout",
     "output_type": "stream",
     "text": [
      "Percentage: 84.20%\n",
      "Grade: B\n"
     ]
    }
   ],
   "source": [
    "# 32.\tWrite a program to calculate grade and percentage.\n",
    "sub1 = 90\n",
    "sub2 = 80\n",
    "sub3 = 86\n",
    "sub4 = 83\n",
    "sub5 = 82\n",
    "tot = sub1 + sub2 + sub3 + sub4 + sub5\n",
    "per = tot/500*100\n",
    "print(f\"Percentage: {per:.2f}%\")\n",
    "\n",
    "if per <= 100 and per > 90:\n",
    "    print(\"Grade: A\")\n",
    "elif per <= 90 and per > 80:\n",
    "    print(\"Grade: B\")\n",
    "elif per <= 80 and per > 70:\n",
    "    print(\"Grade: C\")\n",
    "elif per <= 70 and per > 60:\n",
    "    print(\"Grade: D\")\n",
    "else:\n",
    "    print(\"Fail\")"
   ]
  }
 ],
 "metadata": {
  "kernelspec": {
   "display_name": "base",
   "language": "python",
   "name": "python3"
  },
  "language_info": {
   "codemirror_mode": {
    "name": "ipython",
    "version": 3
   },
   "file_extension": ".py",
   "mimetype": "text/x-python",
   "name": "python",
   "nbconvert_exporter": "python",
   "pygments_lexer": "ipython3",
   "version": "3.12.7"
  }
 },
 "nbformat": 4,
 "nbformat_minor": 5
}
