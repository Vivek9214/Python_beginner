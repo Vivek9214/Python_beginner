{
 "cells": [
  {
   "cell_type": "code",
   "execution_count": 3,
   "id": "2e8966b3",
   "metadata": {},
   "outputs": [
    {
     "name": "stdout",
     "output_type": "stream",
     "text": [
      "Triangle is scalene\n"
     ]
    }
   ],
   "source": [
    "# 30.\tWrite a program to check triangle is scalene or not. \n",
    "f_length = int(input(\"Enter First's length: \"))\n",
    "s_length = int(input(\"Enter Second's length: \"))\n",
    "t_length = int(input(\"Enter Third's length: \"))\n",
    "\n",
    "if f_length != s_length and f_length != t_length and s_length != t_length:\n",
    "    print(\"Triangle is scalene\")\n",
    "else:\n",
    "    print(\"Triangle is not scalene\")"
   ]
  }
 ],
 "metadata": {
  "kernelspec": {
   "display_name": "base",
   "language": "python",
   "name": "python3"
  },
  "language_info": {
   "codemirror_mode": {
    "name": "ipython",
    "version": 3
   },
   "file_extension": ".py",
   "mimetype": "text/x-python",
   "name": "python",
   "nbconvert_exporter": "python",
   "pygments_lexer": "ipython3",
   "version": "3.12.7"
  }
 },
 "nbformat": 4,
 "nbformat_minor": 5
}
