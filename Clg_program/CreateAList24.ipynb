{
 "cells": [
  {
   "cell_type": "code",
   "execution_count": 2,
   "id": "3cd9a40d",
   "metadata": {},
   "outputs": [],
   "source": [
    "# 24.\tWrite a program to create list in python.\n",
    "li = [1,2,3,4,\"Apple\", 3.14, True]"
   ]
  }
 ],
 "metadata": {
  "kernelspec": {
   "display_name": "base",
   "language": "python",
   "name": "python3"
  },
  "language_info": {
   "codemirror_mode": {
    "name": "ipython",
    "version": 3
   },
   "file_extension": ".py",
   "mimetype": "text/x-python",
   "name": "python",
   "nbconvert_exporter": "python",
   "pygments_lexer": "ipython3",
   "version": "3.12.7"
  }
 },
 "nbformat": 4,
 "nbformat_minor": 5
}
