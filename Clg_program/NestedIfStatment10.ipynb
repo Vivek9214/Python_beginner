{
 "cells": [
  {
   "cell_type": "code",
   "execution_count": 103,
   "id": "3d3d7aa2-c1b2-479d-824f-1426ac8dd44d",
   "metadata": {},
   "outputs": [
    {
     "name": "stdout",
     "output_type": "stream",
     "text": [
      "First Loop\n",
      "Second Loop\n"
     ]
    }
   ],
   "source": [
    "# 10.\tWrite a program to nested if statement in python.\n",
    "a = 12\n",
    "b = 12\n",
    "if a % b == 0:\n",
    "    print(\"First Loop\")\n",
    "    if(a == b):\n",
    "        print(\"Second Loop\")"
   ]
  },
  {
   "cell_type": "code",
   "execution_count": null,
   "id": "f03fc197-ee12-468d-bd21-f0fcbc6191db",
   "metadata": {},
   "outputs": [],
   "source": []
  }
 ],
 "metadata": {
  "kernelspec": {
   "display_name": "Python [conda env:base] *",
   "language": "python",
   "name": "conda-base-py"
  },
  "language_info": {
   "codemirror_mode": {
    "name": "ipython",
    "version": 3
   },
   "file_extension": ".py",
   "mimetype": "text/x-python",
   "name": "python",
   "nbconvert_exporter": "python",
   "pygments_lexer": "ipython3",
   "version": "3.12.7"
  }
 },
 "nbformat": 4,
 "nbformat_minor": 5
}
