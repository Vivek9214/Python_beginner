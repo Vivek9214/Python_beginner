{
 "cells": [
  {
   "cell_type": "code",
   "execution_count": 4,
   "id": "95de8f7c",
   "metadata": {},
   "outputs": [
    {
     "name": "stdout",
     "output_type": "stream",
     "text": [
      "Pass\n",
      "continue\n",
      "break\n"
     ]
    }
   ],
   "source": [
    "# 45.\tWrite a program to use function and continue, pass, break keyword in for loop.\n",
    "def looping():\n",
    "    for i in range(1,11):\n",
    "        if i == 3:\n",
    "            print(\"Pass\")\n",
    "            pass\n",
    "        elif i == 5:\n",
    "            print(\"continue\")\n",
    "            continue\n",
    "        elif i == 7:\n",
    "            print(\"break\")\n",
    "looping()"
   ]
  }
 ],
 "metadata": {
  "kernelspec": {
   "display_name": "base",
   "language": "python",
   "name": "python3"
  },
  "language_info": {
   "codemirror_mode": {
    "name": "ipython",
    "version": 3
   },
   "file_extension": ".py",
   "mimetype": "text/x-python",
   "name": "python",
   "nbconvert_exporter": "python",
   "pygments_lexer": "ipython3",
   "version": "3.12.7"
  }
 },
 "nbformat": 4,
 "nbformat_minor": 5
}
