{
 "cells": [
  {
   "cell_type": "code",
   "execution_count": null,
   "id": "81839848",
   "metadata": {},
   "outputs": [
    {
     "name": "stdout",
     "output_type": "stream",
     "text": [
      "STRING\n"
     ]
    }
   ],
   "source": [
    "# 16.\tWrite a program to perform string functions.\n",
    "str1 = \"String\"\n",
    "str2 = \"Function\"\n",
    "\n",
    "print(str1.upper()) # convert string into upper case"
   ]
  },
  {
   "cell_type": "code",
   "execution_count": null,
   "id": "c7b8cab1",
   "metadata": {},
   "outputs": [
    {
     "name": "stdout",
     "output_type": "stream",
     "text": [
      "function\n"
     ]
    }
   ],
   "source": [
    "print(str2.lower())  #convert string into lower case"
   ]
  },
  {
   "cell_type": "code",
   "execution_count": null,
   "id": "4383461a",
   "metadata": {},
   "outputs": [
    {
     "name": "stdout",
     "output_type": "stream",
     "text": [
      "1\n"
     ]
    }
   ],
   "source": [
    "print(str1.count(\"S\")) # count how many time came"
   ]
  },
  {
   "cell_type": "code",
   "execution_count": null,
   "id": "ecd3ed77",
   "metadata": {},
   "outputs": [
    {
     "name": "stdout",
     "output_type": "stream",
     "text": [
      "6\n"
     ]
    }
   ],
   "source": [
    "print(len(str1)) #return len"
   ]
  },
  {
   "cell_type": "code",
   "execution_count": null,
   "id": "67ee2931",
   "metadata": {},
   "outputs": [
    {
     "name": "stdout",
     "output_type": "stream",
     "text": [
      "123\n"
     ]
    }
   ],
   "source": [
    "num_str = 123    #to convert Num into String\n",
    "print(str(num_str))"
   ]
  },
  {
   "cell_type": "code",
   "execution_count": null,
   "id": "aab84eb9",
   "metadata": {},
   "outputs": [
    {
     "name": "stdout",
     "output_type": "stream",
     "text": [
      "Hello World\n"
     ]
    }
   ],
   "source": [
    "Whitspace_string = \"    Hello World   \" # Remove extra space from leading(front) and trailing (end) \n",
    "print(Whitspace_string.strip())"
   ]
  },
  {
   "cell_type": "code",
   "execution_count": 4,
   "id": "fbabc58e",
   "metadata": {},
   "outputs": [
    {
     "name": "stdout",
     "output_type": "stream",
     "text": [
      "I love Coding\n"
     ]
    }
   ],
   "source": [
    "sentence = \"I love Cars\"\n",
    "print(sentence.replace(\"Cars\", \"Coding\")) #Replace a word from string "
   ]
  },
  {
   "cell_type": "code",
   "execution_count": 5,
   "id": "a19f7008",
   "metadata": {},
   "outputs": [
    {
     "name": "stdout",
     "output_type": "stream",
     "text": [
      "['I', 'love', 'Cars']\n"
     ]
    }
   ],
   "source": [
    "print(sentence.split(\" \")) #Split by spaces"
   ]
  }
 ],
 "metadata": {
  "kernelspec": {
   "display_name": "base",
   "language": "python",
   "name": "python3"
  },
  "language_info": {
   "codemirror_mode": {
    "name": "ipython",
    "version": 3
   },
   "file_extension": ".py",
   "mimetype": "text/x-python",
   "name": "python",
   "nbconvert_exporter": "python",
   "pygments_lexer": "ipython3",
   "version": "3.12.7"
  }
 },
 "nbformat": 4,
 "nbformat_minor": 5
}
