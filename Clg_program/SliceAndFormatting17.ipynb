{
 "cells": [
  {
   "cell_type": "code",
   "execution_count": 4,
   "id": "32f74088",
   "metadata": {},
   "outputs": [
    {
     "name": "stdout",
     "output_type": "stream",
     "text": [
      "0123456789\n"
     ]
    }
   ],
   "source": [
    "# 17.\tWrite a program to perform slicing and formatting string.\n",
    "num = \"0123456789\"\n",
    "print(num[0:])  #take full string"
   ]
  },
  {
   "cell_type": "code",
   "execution_count": 5,
   "id": "47fab6af",
   "metadata": {},
   "outputs": [
    {
     "name": "stdout",
     "output_type": "stream",
     "text": [
      "01234\n"
     ]
    }
   ],
   "source": [
    "print(num[:5]) #take only 5 string "
   ]
  },
  {
   "cell_type": "code",
   "execution_count": null,
   "id": "f157b59c",
   "metadata": {},
   "outputs": [
    {
     "data": {
      "text/plain": [
       "'345678'"
      ]
     },
     "execution_count": 6,
     "metadata": {},
     "output_type": "execute_result"
    }
   ],
   "source": [
    "num[3:9] #take from 3 to 9 String"
   ]
  },
  {
   "cell_type": "code",
   "execution_count": 7,
   "id": "34346b64",
   "metadata": {},
   "outputs": [
    {
     "data": {
      "text/plain": [
       "'02468'"
      ]
     },
     "execution_count": 7,
     "metadata": {},
     "output_type": "execute_result"
    }
   ],
   "source": [
    "num[::2] #take jump"
   ]
  },
  {
   "cell_type": "code",
   "execution_count": 10,
   "id": "57b2c805",
   "metadata": {},
   "outputs": [
    {
     "data": {
      "text/plain": [
       "'9876543210'"
      ]
     },
     "execution_count": 10,
     "metadata": {},
     "output_type": "execute_result"
    }
   ],
   "source": [
    "num[::-1] #Rev string"
   ]
  },
  {
   "cell_type": "code",
   "execution_count": null,
   "id": "accd9279",
   "metadata": {},
   "outputs": [
    {
     "name": "stdout",
     "output_type": "stream",
     "text": [
      "Hey! My name is Alice, and age is 26\n"
     ]
    }
   ],
   "source": [
    "#String formatting \n",
    "name = \"Alice\" \n",
    "age = 26\n",
    "print(f'Hey! My name is {name}, and age is {age}')"
   ]
  },
  {
   "cell_type": "code",
   "execution_count": 13,
   "id": "f0fcc4dd",
   "metadata": {},
   "outputs": [
    {
     "name": "stdout",
     "output_type": "stream",
     "text": [
      "formatted pi with f-string : The value of pi is approximately 3.141593.\n"
     ]
    }
   ],
   "source": [
    "#Formating number with f-strings\n",
    "pi = 3.1415926535\n",
    "formatted_pi = f\"The value of pi is approximately {pi:2f}.\"\n",
    "print(f\"formatted pi with f-string : {formatted_pi}\")"
   ]
  },
  {
   "cell_type": "code",
   "execution_count": 16,
   "id": "734c4d5b",
   "metadata": {},
   "outputs": [
    {
     "name": "stdout",
     "output_type": "stream",
     "text": [
      ".format() method example: The temperature in New York is 25.5 degrees Celsius.\n"
     ]
    }
   ],
   "source": [
    "# Using .format() method\n",
    "city = \"New York\"\n",
    "temp = 25.5\n",
    "format_method_example = \"The temperature in {} is {} degrees Celsius.\".format(city, temp)\n",
    "print(f\".format() method example: {format_method_example}\")"
   ]
  },
  {
   "cell_type": "code",
   "execution_count": 14,
   "id": "07da7ec7",
   "metadata": {},
   "outputs": [
    {
     "name": "stdout",
     "output_type": "stream",
     "text": [
      ".format() with keyword arguments: The temperature in Paris is 22 degrees Celsius.\n"
     ]
    }
   ],
   "source": [
    "# Using keyword arguments with .format()\n",
    "format_keywords = \"The {item} in {location} is {value} degrees Celsius.\".format(item=\"temperature\", location=\"Paris\", value=22)\n",
    "print(f\".format() with keyword arguments: {format_keywords}\")"
   ]
  },
  {
   "cell_type": "code",
   "execution_count": 15,
   "id": "50933ff7",
   "metadata": {},
   "outputs": [
    {
     "name": "stdout",
     "output_type": "stream",
     "text": [
      ".format() with positional arguments: The temperature in London is 20 degrees Celsius.\n"
     ]
    }
   ],
   "source": [
    "# Using positional arguments with .format()\n",
    "format_positional = \"The {0} in {1} is {2} degrees Celsius.\".format(\"temperature\", \"London\", 20)\n",
    "print(f\".format() with positional arguments: {format_positional}\")"
   ]
  }
 ],
 "metadata": {
  "kernelspec": {
   "display_name": "base",
   "language": "python",
   "name": "python3"
  },
  "language_info": {
   "codemirror_mode": {
    "name": "ipython",
    "version": 3
   },
   "file_extension": ".py",
   "mimetype": "text/x-python",
   "name": "python",
   "nbconvert_exporter": "python",
   "pygments_lexer": "ipython3",
   "version": "3.12.7"
  }
 },
 "nbformat": 4,
 "nbformat_minor": 5
}
