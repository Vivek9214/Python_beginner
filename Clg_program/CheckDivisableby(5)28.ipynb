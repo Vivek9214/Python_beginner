{
 "cells": [
  {
   "cell_type": "code",
   "execution_count": 1,
   "id": "cc2b1b56",
   "metadata": {},
   "outputs": [
    {
     "name": "stdout",
     "output_type": "stream",
     "text": [
      "5 is Divisable by 5\n"
     ]
    }
   ],
   "source": [
    "# 28.\tWrite a program to check number is divisible by 5 or 7.\n",
    "\n",
    "num = int(input())\n",
    "if num % 5 == 0:\n",
    "    print(f\"{num} is Divisable by 5\")\n",
    "else:\n",
    "    print(f\"{num} is not Divisiable by 5\")"
   ]
  }
 ],
 "metadata": {
  "kernelspec": {
   "display_name": "base",
   "language": "python",
   "name": "python3"
  },
  "language_info": {
   "codemirror_mode": {
    "name": "ipython",
    "version": 3
   },
   "file_extension": ".py",
   "mimetype": "text/x-python",
   "name": "python",
   "nbconvert_exporter": "python",
   "pygments_lexer": "ipython3",
   "version": "3.12.7"
  }
 },
 "nbformat": 4,
 "nbformat_minor": 5
}
