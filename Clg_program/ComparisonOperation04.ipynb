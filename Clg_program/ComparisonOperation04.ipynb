{
 "cells": [
  {
   "cell_type": "code",
   "execution_count": 24,
   "id": "f05e93f1-694d-4dbf-ae2a-fb2eade81c04",
   "metadata": {},
   "outputs": [
    {
     "name": "stdout",
     "output_type": "stream",
     "text": [
      "12 is greater\n"
     ]
    }
   ],
   "source": [
    "# 4.\tWrite a program to perform Comparison operator.\n",
    "a = 12\n",
    "b = 2\n",
    "if a > b:\n",
    "    print(a,\"is greater\")"
   ]
  },
  {
   "cell_type": "code",
   "execution_count": 41,
   "id": "3253f219-ad6d-479a-9361-ae5bf03bd1d1",
   "metadata": {},
   "outputs": [],
   "source": [
    "if a < b:\n",
    "    print(b,\"is greater\")"
   ]
  },
  {
   "cell_type": "code",
   "execution_count": 51,
   "id": "c31bf4a1-b74a-4f33-80b9-fe4c592076f5",
   "metadata": {},
   "outputs": [
    {
     "name": "stdout",
     "output_type": "stream",
     "text": [
      "Not Equal\n"
     ]
    }
   ],
   "source": [
    "if a == b:\n",
    "    print(\"Both is Equal\")\n",
    "else: \n",
    "    print(\"Not Equal\")"
   ]
  },
  {
   "cell_type": "code",
   "execution_count": 47,
   "id": "f726aeb4-b3e3-4f28-9b91-9cffbf192906",
   "metadata": {},
   "outputs": [
    {
     "name": "stdout",
     "output_type": "stream",
     "text": [
      "Both is not Equal\n"
     ]
    }
   ],
   "source": [
    "if a != b:\n",
    "    print(\"Both is not Equal\")"
   ]
  },
  {
   "cell_type": "code",
   "execution_count": 35,
   "id": "0c953e46-dcc8-48c8-9b46-81af9a1e235a",
   "metadata": {},
   "outputs": [
    {
     "name": "stdout",
     "output_type": "stream",
     "text": [
      "12  is greater or equal\n"
     ]
    }
   ],
   "source": [
    "if a >= b:\n",
    "    print(a, \" is greater or equal\")"
   ]
  },
  {
   "cell_type": "code",
   "execution_count": 55,
   "id": "dfe0a8b6-9af8-4d39-a000-2333d6698048",
   "metadata": {},
   "outputs": [],
   "source": [
    "if a <= b:\n",
    "    print(b, \" is greater or equal\")"
   ]
  },
  {
   "cell_type": "code",
   "execution_count": null,
   "id": "c9a17b52-2c06-4f3c-acc4-3c071c049a6f",
   "metadata": {},
   "outputs": [],
   "source": []
  }
 ],
 "metadata": {
  "kernelspec": {
   "display_name": "Python [conda env:base] *",
   "language": "python",
   "name": "conda-base-py"
  },
  "language_info": {
   "codemirror_mode": {
    "name": "ipython",
    "version": 3
   },
   "file_extension": ".py",
   "mimetype": "text/x-python",
   "name": "python",
   "nbconvert_exporter": "python",
   "pygments_lexer": "ipython3",
   "version": "3.12.7"
  }
 },
 "nbformat": 4,
 "nbformat_minor": 5
}
