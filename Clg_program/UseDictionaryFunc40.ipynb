{
 "cells": [
  {
   "cell_type": "code",
   "execution_count": 14,
   "id": "660edc78",
   "metadata": {},
   "outputs": [
    {
     "name": "stdout",
     "output_type": "stream",
     "text": [
      "Vivek\n",
      "21\n",
      "{'name': 'Vivek', 'age': 20, 'course': 'BCA'}\n",
      "dict_keys(['name', 'age', 'course'])\n",
      "dict_values(['Vivek', 20, 'BCA'])\n",
      "{'age': 20, 'course': 'BCA'}\n",
      "Key:  age\n",
      "Value:  20\n",
      "Key:  course\n",
      "Value:  BCA\n",
      "None\n"
     ]
    }
   ],
   "source": [
    "# 40.\tWrite a program to use dictionary functions.\n",
    "student = {\n",
    "    \"name\": \"Vivek\",\n",
    "    \"age\": 21,\n",
    "    \"course\": \"BCA\"\n",
    "}\n",
    "\n",
    "#To Get access\n",
    "print(student[\"name\"])\n",
    "print(student.get(\"age\")) #get is safe way\n",
    "\n",
    "#To Update\n",
    "student[\"age\"] = 20\n",
    "print(student)\n",
    "\n",
    "#Acces by key and value\n",
    "print(student.keys())\n",
    "print(student.values())\n",
    "\n",
    "#delete a key-value pair\n",
    "del student[\"name\"]\n",
    "print(student)\n",
    "\n",
    "#To get key-value pair\n",
    "for key, value in student.items():\n",
    "    print(\"Key: \", key)\n",
    "    print(\"Value: \", value)\n",
    "\n",
    "#Clear all items\n",
    "print(student.clear())"
   ]
  }
 ],
 "metadata": {
  "kernelspec": {
   "display_name": "base",
   "language": "python",
   "name": "python3"
  },
  "language_info": {
   "codemirror_mode": {
    "name": "ipython",
    "version": 3
   },
   "file_extension": ".py",
   "mimetype": "text/x-python",
   "name": "python",
   "nbconvert_exporter": "python",
   "pygments_lexer": "ipython3",
   "version": "3.12.7"
  }
 },
 "nbformat": 4,
 "nbformat_minor": 5
}
