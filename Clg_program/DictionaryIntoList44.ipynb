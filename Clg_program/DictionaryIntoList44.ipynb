{
 "cells": [
  {
   "cell_type": "code",
   "execution_count": 2,
   "id": "4bd27239",
   "metadata": {},
   "outputs": [
    {
     "name": "stdout",
     "output_type": "stream",
     "text": [
      "[('Name', 'Vivek'), ('Age', 21), ('Course', 'BCA')]\n"
     ]
    }
   ],
   "source": [
    "# 43.\tWrite a program to create dictionary and changed into the list.\n",
    "dict = {\n",
    "    \"Name\" : \"Vivek\",\n",
    "    \"Age\" : 21,\n",
    "    \"Course\" : \"BCA\"\n",
    "}\n",
    "\n",
    "li = list(dict.items())\n",
    "print(li)"
   ]
  }
 ],
 "metadata": {
  "kernelspec": {
   "display_name": "base",
   "language": "python",
   "name": "python3"
  },
  "language_info": {
   "codemirror_mode": {
    "name": "ipython",
    "version": 3
   },
   "file_extension": ".py",
   "mimetype": "text/x-python",
   "name": "python",
   "nbconvert_exporter": "python",
   "pygments_lexer": "ipython3",
   "version": "3.12.7"
  }
 },
 "nbformat": 4,
 "nbformat_minor": 5
}
