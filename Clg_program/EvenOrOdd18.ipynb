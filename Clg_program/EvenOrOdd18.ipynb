{
 "cells": [
  {
   "cell_type": "code",
   "execution_count": 2,
   "id": "4de94d78",
   "metadata": {},
   "outputs": [
    {
     "name": "stdout",
     "output_type": "stream",
     "text": [
      "52 is even\n"
     ]
    }
   ],
   "source": [
    "# 18.\tWrite a program to find number is even or odd.\n",
    "# to find even \n",
    "num = int(input(\"Enter Number: \"))\n",
    "if num % 2 == 0:\n",
    "    print(f\"{num} is even\")\n",
    "else :\n",
    "    print(f\"{num} is odd\")"
   ]
  }
 ],
 "metadata": {
  "kernelspec": {
   "display_name": "base",
   "language": "python",
   "name": "python3"
  },
  "language_info": {
   "codemirror_mode": {
    "name": "ipython",
    "version": 3
   },
   "file_extension": ".py",
   "mimetype": "text/x-python",
   "name": "python",
   "nbconvert_exporter": "python",
   "pygments_lexer": "ipython3",
   "version": "3.12.7"
  }
 },
 "nbformat": 4,
 "nbformat_minor": 5
}
