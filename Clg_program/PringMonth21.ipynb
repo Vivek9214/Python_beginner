{
 "cells": [
  {
   "cell_type": "code",
   "execution_count": 5,
   "id": "8148c312",
   "metadata": {},
   "outputs": [
    {
     "name": "stdout",
     "output_type": "stream",
     "text": [
      "Invalid Number\n"
     ]
    }
   ],
   "source": [
    "# 21.\tWrite a program to print month name with if and else.\n",
    "inpute = int(input(\"Enter number between 1 to 12: \"))\n",
    "\n",
    "if inpute == 1:\n",
    "    print(\"January\")\n",
    "elif inpute == 2:\n",
    "    print(\"February\")\n",
    "elif inpute == 3:\n",
    "    print(\"March\")\n",
    "elif inpute == 4:\n",
    "    print(\"April\")\n",
    "elif inpute == 5:\n",
    "    print(\"May\")\n",
    "elif inpute == 6:\n",
    "    print(\"June\")\n",
    "elif inpute == 7:\n",
    "    print(\"July\")\n",
    "elif inpute == 8:\n",
    "    print(\"Auguest\")\n",
    "elif inpute == 9:\n",
    "    print(\"September\")\n",
    "elif inpute == 10:\n",
    "    print(\"October\")\n",
    "elif inpute == 11:\n",
    "    print(\"November\")\n",
    "elif inpute == 12:\n",
    "    print(\"December\")\n",
    "else:\n",
    "    print(\"Invalid Number\")"
   ]
  }
 ],
 "metadata": {
  "kernelspec": {
   "display_name": "base",
   "language": "python",
   "name": "python3"
  },
  "language_info": {
   "codemirror_mode": {
    "name": "ipython",
    "version": 3
   },
   "file_extension": ".py",
   "mimetype": "text/x-python",
   "name": "python",
   "nbconvert_exporter": "python",
   "pygments_lexer": "ipython3",
   "version": "3.12.7"
  }
 },
 "nbformat": 4,
 "nbformat_minor": 5
}
