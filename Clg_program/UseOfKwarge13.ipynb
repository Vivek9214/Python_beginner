{
 "cells": [
  {
   "cell_type": "code",
   "execution_count": 1,
   "id": "9f22c97e-f8f5-4b62-9c99-cce805b56fdf",
   "metadata": {},
   "outputs": [
    {
     "name": "stdout",
     "output_type": "stream",
     "text": [
      "name : Vivek\n",
      "age : 21\n",
      "course : BCA\n",
      "subject : Python\n"
     ]
    }
   ],
   "source": [
    "# 13.\tWrite a program to **kwargs.\n",
    "def show_info(**kwargs):\n",
    "    for key, value in kwargs.items():\n",
    "        print(key, \":\", value)\n",
    "show_info(name = \"Vivek\", age = 21, course = \"BCA\", subject = \"Python\")        "
   ]
  }
 ],
 "metadata": {
  "kernelspec": {
   "display_name": "base",
   "language": "python",
   "name": "python3"
  },
  "language_info": {
   "codemirror_mode": {
    "name": "ipython",
    "version": 3
   },
   "file_extension": ".py",
   "mimetype": "text/x-python",
   "name": "python",
   "nbconvert_exporter": "python",
   "pygments_lexer": "ipython3",
   "version": "3.12.7"
  }
 },
 "nbformat": 4,
 "nbformat_minor": 5
}
