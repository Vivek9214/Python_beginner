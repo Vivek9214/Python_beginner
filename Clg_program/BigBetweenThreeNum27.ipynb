{
 "cells": [
  {
   "cell_type": "code",
   "execution_count": 6,
   "id": "b7771d48",
   "metadata": {},
   "outputs": [
    {
     "name": "stdout",
     "output_type": "stream",
     "text": [
      "1235\n"
     ]
    }
   ],
   "source": [
    "# 27.\tWrite a program to find greatest between three number.\n",
    "\n",
    "first_ = 1235\n",
    "second_ = 133\n",
    "third_ = 34\n",
    "\n",
    "if first_ < second_:\n",
    "    if second_ < third_:\n",
    "        print(third_)\n",
    "    else:\n",
    "        print(second_)\n",
    "else:\n",
    "    if first_ < second_:\n",
    "        print(third_)\n",
    "    else:\n",
    "        print(first_)"
   ]
  }
 ],
 "metadata": {
  "kernelspec": {
   "display_name": "base",
   "language": "python",
   "name": "python3"
  },
  "language_info": {
   "codemirror_mode": {
    "name": "ipython",
    "version": 3
   },
   "file_extension": ".py",
   "mimetype": "text/x-python",
   "name": "python",
   "nbconvert_exporter": "python",
   "pygments_lexer": "ipython3",
   "version": "3.12.7"
  }
 },
 "nbformat": 4,
 "nbformat_minor": 5
}
