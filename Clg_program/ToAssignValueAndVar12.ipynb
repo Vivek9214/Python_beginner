{
 "cells": [
  {
   "cell_type": "code",
   "execution_count": 1,
   "id": "a238f1f2-437d-4a5b-b564-7c9162deb54f",
   "metadata": {},
   "outputs": [],
   "source": [
    "# 12.\tWrite a program to create a variable and assign a value.\n",
    "#Create a Variable\n",
    "a = 12\n",
    "b = 1.223\n",
    "c = \"Str\"\n",
    "d = True"
   ]
  },
  {
   "cell_type": "code",
   "execution_count": 3,
   "id": "ac7d8eda-ffdf-4526-a6f5-9264265096db",
   "metadata": {},
   "outputs": [
    {
     "name": "stdout",
     "output_type": "stream",
     "text": [
      "12\n",
      "1.223\n",
      "Str\n",
      "True\n"
     ]
    }
   ],
   "source": [
    "print(a)\n",
    "print(b)\n",
    "print(c)\n",
    "print(d)"
   ]
  },
  {
   "cell_type": "code",
   "execution_count": null,
   "id": "814848fa-152e-41b5-96eb-e870c2ed6b4a",
   "metadata": {},
   "outputs": [],
   "source": []
  }
 ],
 "metadata": {
  "kernelspec": {
   "display_name": "Python [conda env:base] *",
   "language": "python",
   "name": "conda-base-py"
  },
  "language_info": {
   "codemirror_mode": {
    "name": "ipython",
    "version": 3
   },
   "file_extension": ".py",
   "mimetype": "text/x-python",
   "name": "python",
   "nbconvert_exporter": "python",
   "pygments_lexer": "ipython3",
   "version": "3.12.7"
  }
 },
 "nbformat": 4,
 "nbformat_minor": 5
}
