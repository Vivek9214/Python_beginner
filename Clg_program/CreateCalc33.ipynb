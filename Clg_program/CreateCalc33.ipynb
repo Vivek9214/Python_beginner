{
 "cells": [
  {
   "cell_type": "code",
   "execution_count": null,
   "id": "ce197b31",
   "metadata": {},
   "outputs": [
    {
     "name": "stdout",
     "output_type": "stream",
     "text": [
      "The Output will be 2948\n"
     ]
    }
   ],
   "source": [
    "# 33.\tWrite a program to create calculator. \n",
    "num1 = int(input(\"Enter Number 1: \"))\n",
    "num2 = int(input(\"Enter Number 2 : \"))\n",
    "\n",
    "sign = input(\"Which Operation you want to perform : \")\n",
    "\n",
    "match sign: \n",
    "    case \"+\":\n",
    "        print(f\"The output will be {num1 + num2}\")\n",
    "    case \"-\":\n",
    "        print(f\"The Output will be {num1 - num2}\")\n",
    "    case \"*\":\n",
    "        print(f\"The Output will be {num1 * num2}\")\n",
    "    case \"/\":\n",
    "        print(f\"The Output will be {num1 / num2}\")\n",
    "    case _:\n",
    "        print(f\"unvalid sign\")"
   ]
  }
 ],
 "metadata": {
  "kernelspec": {
   "display_name": "base",
   "language": "python",
   "name": "python3"
  },
  "language_info": {
   "codemirror_mode": {
    "name": "ipython",
    "version": 3
   },
   "file_extension": ".py",
   "mimetype": "text/x-python",
   "name": "python",
   "nbconvert_exporter": "python",
   "pygments_lexer": "ipython3",
   "version": "3.12.7"
  }
 },
 "nbformat": 4,
 "nbformat_minor": 5
}
