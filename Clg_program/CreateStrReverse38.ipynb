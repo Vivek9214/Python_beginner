{
 "cells": [
  {
   "cell_type": "code",
   "execution_count": 7,
   "id": "a54d80fc",
   "metadata": {},
   "outputs": [
    {
     "name": "stdout",
     "output_type": "stream",
     "text": [
      "['Vivek', 'Gahlot']\n",
      "Vivek \n",
      "tolhaG keviV\n"
     ]
    }
   ],
   "source": [
    "# 38.\tWrite a program to create a string and split it and extract name and reverse print the string.\n",
    "str = \"Vivek Gahlot\"\n",
    "#Split\n",
    "str1 = str.split(\" \")\n",
    "print(str1)\n",
    "\n",
    "#Extract Name\n",
    "str2 = str[:6]\n",
    "print(str2)\n",
    "\n",
    "#Reverse\n",
    "str3 = str[::-1]\n",
    "print(str3)"
   ]
  }
 ],
 "metadata": {
  "kernelspec": {
   "display_name": "base",
   "language": "python",
   "name": "python3"
  },
  "language_info": {
   "codemirror_mode": {
    "name": "ipython",
    "version": 3
   },
   "file_extension": ".py",
   "mimetype": "text/x-python",
   "name": "python",
   "nbconvert_exporter": "python",
   "pygments_lexer": "ipython3",
   "version": "3.12.7"
  }
 },
 "nbformat": 4,
 "nbformat_minor": 5
}
