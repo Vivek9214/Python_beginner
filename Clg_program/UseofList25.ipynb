{
 "cells": [
  {
   "cell_type": "code",
   "execution_count": null,
   "id": "bbce2c8f",
   "metadata": {},
   "outputs": [],
   "source": [
    "#25.\tWrite a program to use list in python.\n",
    "li = [1,2,3,1.2,\"Hey!\",\"\"\"it's me, Vivek \"\"\"]"
   ]
  },
  {
   "cell_type": "code",
   "execution_count": null,
   "id": "5422fc7f",
   "metadata": {},
   "outputs": [
    {
     "name": "stdout",
     "output_type": "stream",
     "text": [
      "2\n"
     ]
    }
   ],
   "source": [
    "print(li[1])"
   ]
  },
  {
   "cell_type": "code",
   "execution_count": 11,
   "id": "78b87aa8",
   "metadata": {},
   "outputs": [
    {
     "name": "stdout",
     "output_type": "stream",
     "text": [
      "Hey! it's me, vivek \n"
     ]
    }
   ],
   "source": [
    "print(li[4],li[5])"
   ]
  }
 ],
 "metadata": {
  "kernelspec": {
   "display_name": "base",
   "language": "python",
   "name": "python3"
  },
  "language_info": {
   "codemirror_mode": {
    "name": "ipython",
    "version": 3
   },
   "file_extension": ".py",
   "mimetype": "text/x-python",
   "name": "python",
   "nbconvert_exporter": "python",
   "pygments_lexer": "ipython3",
   "version": "3.12.7"
  }
 },
 "nbformat": 4,
 "nbformat_minor": 5
}
