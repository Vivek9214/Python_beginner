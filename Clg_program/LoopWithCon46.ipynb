{
 "cells": [
  {
   "cell_type": "code",
   "execution_count": 1,
   "id": "220b81a7",
   "metadata": {},
   "outputs": [
    {
     "name": "stdout",
     "output_type": "stream",
     "text": [
      "8\n"
     ]
    }
   ],
   "source": [
    "# 46.\tWrite a program to use pass, break, continue keywords in while loop.\n",
    "max = 10\n",
    "num = 1\n",
    "while num < max:\n",
    "    num +=1\n",
    "    if num == 2:\n",
    "        pass\n",
    "    elif num == 4:\n",
    "        continue\n",
    "    elif num == 8:\n",
    "        break\n",
    "print(num)\n"
   ]
  }
 ],
 "metadata": {
  "kernelspec": {
   "display_name": "base",
   "language": "python",
   "name": "python3"
  },
  "language_info": {
   "codemirror_mode": {
    "name": "ipython",
    "version": 3
   },
   "file_extension": ".py",
   "mimetype": "text/x-python",
   "name": "python",
   "nbconvert_exporter": "python",
   "pygments_lexer": "ipython3",
   "version": "3.12.7"
  }
 },
 "nbformat": 4,
 "nbformat_minor": 5
}
