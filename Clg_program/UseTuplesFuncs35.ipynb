{
 "cells": [
  {
   "cell_type": "code",
   "execution_count": 1,
   "id": "2a7a1a20",
   "metadata": {},
   "outputs": [
    {
     "name": "stdout",
     "output_type": "stream",
     "text": [
      "<class 'tuple'>\n",
      "1\n",
      "76\n",
      "189\n",
      "5\n"
     ]
    }
   ],
   "source": [
    "# 35.\tWrite a program to use tuple functions.\n",
    "# to convert list into tuples \n",
    "li  = [1,2,3]\n",
    "tu = tuple(li)\n",
    "print(type(tu))\n",
    "\n",
    "# to find min \n",
    "tu = (1,2,3,4,5)\n",
    "print(min(tu))\n",
    "\n",
    "# to find max \n",
    "tu = (2,42,54,15,76)\n",
    "print(max(tu))\n",
    "\n",
    "# to find sum\n",
    "to = (23,23,56,74,62)\n",
    "print(sum(tu))\n",
    "\n",
    "# to get length\n",
    "to = (23,42,53,74,76)\n",
    "print(len(to))"
   ]
  }
 ],
 "metadata": {
  "kernelspec": {
   "display_name": "base",
   "language": "python",
   "name": "python3"
  },
  "language_info": {
   "codemirror_mode": {
    "name": "ipython",
    "version": 3
   },
   "file_extension": ".py",
   "mimetype": "text/x-python",
   "name": "python",
   "nbconvert_exporter": "python",
   "pygments_lexer": "ipython3",
   "version": "3.12.7"
  }
 },
 "nbformat": 4,
 "nbformat_minor": 5
}
