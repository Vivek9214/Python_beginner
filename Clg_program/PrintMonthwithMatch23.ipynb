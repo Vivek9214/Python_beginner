{
 "cells": [
  {
   "cell_type": "code",
   "execution_count": null,
   "id": "a98f096e",
   "metadata": {},
   "outputs": [
    {
     "name": "stdout",
     "output_type": "stream",
     "text": [
      "February\n"
     ]
    }
   ],
   "source": [
    "# 23.\tWrite a program to print month name with match statement.\n",
    "def print_month_name(month_number):\n",
    "    match month_number:\n",
    "        case 1:\n",
    "            print(\"January\")\n",
    "        case 2:\n",
    "            print(\"February\")\n",
    "        case 3:\n",
    "            print(\"March\")\n",
    "        case 4:\n",
    "            print(\"April\")\n",
    "        case 5:\n",
    "            print(\"May\")\n",
    "        case 6:\n",
    "            print(\"June\")\n",
    "        case 7:\n",
    "            print(\"July\")\n",
    "        case 8:\n",
    "            print(\"August\")\n",
    "        case 9:\n",
    "            print(\"September\")\n",
    "        case 10:\n",
    "            print(\"October\")\n",
    "        case 11:\n",
    "            print(\"November\")\n",
    "        case 12:\n",
    "            print(\"December\")\n",
    "        case _:  \n",
    "            print(\"Invalid month number\")\n",
    "print_month_name(2)"
   ]
  }
 ],
 "metadata": {
  "kernelspec": {
   "display_name": "base",
   "language": "python",
   "name": "python3"
  },
  "language_info": {
   "codemirror_mode": {
    "name": "ipython",
    "version": 3
   },
   "file_extension": ".py",
   "mimetype": "text/x-python",
   "name": "python",
   "nbconvert_exporter": "python",
   "pygments_lexer": "ipython3",
   "version": "3.12.7"
  }
 },
 "nbformat": 4,
 "nbformat_minor": 5
}
