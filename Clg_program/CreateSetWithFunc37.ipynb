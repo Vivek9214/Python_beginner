{
 "cells": [
  {
   "cell_type": "code",
   "execution_count": 28,
   "id": "74a60671",
   "metadata": {},
   "outputs": [
    {
     "name": "stdout",
     "output_type": "stream",
     "text": [
      "<class 'set'>\n",
      "{1, 2, 3, 4, 5, 6, 7}\n",
      "{1, 2, 3, 4, 5, 6, 7, 8}\n",
      "{1, 2, 3, 4, 5, 6, 7}\n",
      "{2, 3, 4, 5, 6, 7}\n",
      "{2, 3, 4, 5, 6}\n",
      "None\n"
     ]
    }
   ],
   "source": [
    "# 37.\tWrite a program to create set and use set function.\n",
    "# Create a set \n",
    "num = {1,2,3,4,5,6}\n",
    "print(type(num))\n",
    "\n",
    "#Sets Function\n",
    "# add\n",
    "num.add(7)\n",
    "print(num)\n",
    "\n",
    "# update\n",
    "li = [7,8]\n",
    "num.update(li)\n",
    "print(num)\n",
    "\n",
    "#remove\n",
    "num.remove(8)\n",
    "print(num)\n",
    "\n",
    "#pop \n",
    "num.pop()\n",
    "print(num)\n",
    "\n",
    "#discord \n",
    "num.discard(7)\n",
    "print(num)\n",
    "\n",
    "#clear\n",
    "print(num.clear())\n"
   ]
  }
 ],
 "metadata": {
  "kernelspec": {
   "display_name": "base",
   "language": "python",
   "name": "python3"
  },
  "language_info": {
   "codemirror_mode": {
    "name": "ipython",
    "version": 3
   },
   "file_extension": ".py",
   "mimetype": "text/x-python",
   "name": "python",
   "nbconvert_exporter": "python",
   "pygments_lexer": "ipython3",
   "version": "3.12.7"
  }
 },
 "nbformat": 4,
 "nbformat_minor": 5
}
