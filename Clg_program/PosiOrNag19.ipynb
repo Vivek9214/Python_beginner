{
 "cells": [
  {
   "cell_type": "code",
   "execution_count": 5,
   "id": "c5857d0d",
   "metadata": {},
   "outputs": [
    {
     "name": "stdout",
     "output_type": "stream",
     "text": [
      "7453 is Positive Number.\n"
     ]
    }
   ],
   "source": [
    "# 19.\tWrite a program to find number is negative and positive.\n",
    "num = int(input(\"Enter Number: \"))\n",
    "if num < 0:\n",
    "    print(f\"{num} is Negative Number.\")\n",
    "elif num == 0:\n",
    "    print(f\"{num} is neutral Number.\")\n",
    "else:\n",
    "    print(f\"{num} is Positive Number.\")"
   ]
  }
 ],
 "metadata": {
  "kernelspec": {
   "display_name": "base",
   "language": "python",
   "name": "python3"
  },
  "language_info": {
   "codemirror_mode": {
    "name": "ipython",
    "version": 3
   },
   "file_extension": ".py",
   "mimetype": "text/x-python",
   "name": "python",
   "nbconvert_exporter": "python",
   "pygments_lexer": "ipython3",
   "version": "3.12.7"
  }
 },
 "nbformat": 4,
 "nbformat_minor": 5
}
