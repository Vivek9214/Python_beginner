{
 "cells": [
  {
   "cell_type": "code",
   "execution_count": 18,
   "id": "9135274e",
   "metadata": {},
   "outputs": [
    {
     "name": "stdout",
     "output_type": "stream",
     "text": [
      "Not an Isosceles Triangle\n"
     ]
    }
   ],
   "source": [
    "# 31.\tWrite a program to check triangle is isosceles or not. \n",
    "f_length = int(input(\"Enter First's length: \"))\n",
    "s_length = int(input(\"Enter Second's length: \"))\n",
    "t_length = int(input(\"Enter Third's length: \"))\n",
    "\n",
    "if f_length == s_length or s_length == t_length or f_length == t_length:\n",
    "    if f_length == s_length == t_length:\n",
    "        print(\"Not an Isosceles Triangle\") \n",
    "    else:\n",
    "        print(\"Isosceles Triangle\")\n",
    "else:\n",
    "    print(\"Not an Isosceles Triangle\")\n"
   ]
  }
 ],
 "metadata": {
  "kernelspec": {
   "display_name": "base",
   "language": "python",
   "name": "python3"
  },
  "language_info": {
   "codemirror_mode": {
    "name": "ipython",
    "version": 3
   },
   "file_extension": ".py",
   "mimetype": "text/x-python",
   "name": "python",
   "nbconvert_exporter": "python",
   "pygments_lexer": "ipython3",
   "version": "3.12.7"
  }
 },
 "nbformat": 4,
 "nbformat_minor": 5
}
