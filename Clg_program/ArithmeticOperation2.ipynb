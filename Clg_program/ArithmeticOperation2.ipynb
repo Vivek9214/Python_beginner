{
 "cells": [
  {
   "cell_type": "code",
   "execution_count": 2,
   "id": "29fc0498-6db0-4e34-9d47-e0aa07f9f724",
   "metadata": {},
   "outputs": [],
   "source": [
    "#WAP to perform arithmetic operations\n",
    "a = 12\n",
    "b = 2"
   ]
  },
  {
   "cell_type": "code",
   "execution_count": 41,
   "id": "b92a11b2-eff3-4d51-b29e-ca25b32584ac",
   "metadata": {},
   "outputs": [
    {
     "name": "stdout",
     "output_type": "stream",
     "text": [
      "14\n"
     ]
    }
   ],
   "source": [
    "#Addition\n",
    "add = a + b\n",
    "print(add)"
   ]
  },
  {
   "cell_type": "code",
   "execution_count": 39,
   "id": "40434f1d-e2ce-4f33-97bb-3c75c4711bfc",
   "metadata": {},
   "outputs": [
    {
     "name": "stdout",
     "output_type": "stream",
     "text": [
      "10\n"
     ]
    }
   ],
   "source": [
    "#Subtraction\n",
    "sub = a - b\n",
    "print(sub)"
   ]
  },
  {
   "cell_type": "code",
   "execution_count": 37,
   "id": "4f2ebaaa-1bd2-4aba-a944-ec5182a28c23",
   "metadata": {},
   "outputs": [
    {
     "name": "stdout",
     "output_type": "stream",
     "text": [
      "24\n"
     ]
    }
   ],
   "source": [
    "#Multiplication\n",
    "mul = a * b\n",
    "print(mul)"
   ]
  },
  {
   "cell_type": "code",
   "execution_count": 35,
   "id": "202ee66d-42fa-440f-9663-cee79fc7aa70",
   "metadata": {},
   "outputs": [
    {
     "name": "stdout",
     "output_type": "stream",
     "text": [
      "6.0\n"
     ]
    }
   ],
   "source": [
    "#Division\n",
    "div = a / b\n",
    "print(div)"
   ]
  },
  {
   "cell_type": "code",
   "execution_count": 33,
   "id": "c08e9579-09e5-4bfc-9e91-b67360a4f459",
   "metadata": {},
   "outputs": [
    {
     "name": "stdout",
     "output_type": "stream",
     "text": [
      "6\n"
     ]
    }
   ],
   "source": [
    "#Floor Divsion\n",
    "floor = a // b\n",
    "print(floor)"
   ]
  },
  {
   "cell_type": "code",
   "execution_count": 29,
   "id": "39429189-22a8-4c1b-9d72-2a41c459fd26",
   "metadata": {},
   "outputs": [
    {
     "name": "stdout",
     "output_type": "stream",
     "text": [
      "0\n"
     ]
    }
   ],
   "source": [
    "#Modulus\n",
    "mod = a % b\n",
    "print(mod)"
   ]
  },
  {
   "cell_type": "code",
   "execution_count": 31,
   "id": "095ec34c-b3b6-4f53-8eba-cded200806ae",
   "metadata": {},
   "outputs": [
    {
     "name": "stdout",
     "output_type": "stream",
     "text": [
      "144\n"
     ]
    }
   ],
   "source": [
    "#Exponentiation\n",
    "exp = a ** b\n",
    "print(exp)"
   ]
  },
  {
   "cell_type": "code",
   "execution_count": null,
   "id": "c86c79e3-1620-481d-b45c-9046425ddae6",
   "metadata": {},
   "outputs": [],
   "source": []
  }
 ],
 "metadata": {
  "kernelspec": {
   "display_name": "Python [conda env:base] *",
   "language": "python",
   "name": "conda-base-py"
  },
  "language_info": {
   "codemirror_mode": {
    "name": "ipython",
    "version": 3
   },
   "file_extension": ".py",
   "mimetype": "text/x-python",
   "name": "python",
   "nbconvert_exporter": "python",
   "pygments_lexer": "ipython3",
   "version": "3.12.7"
  }
 },
 "nbformat": 4,
 "nbformat_minor": 5
}
