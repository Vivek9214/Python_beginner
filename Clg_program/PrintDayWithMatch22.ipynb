{
 "cells": [
  {
   "cell_type": "code",
   "execution_count": null,
   "id": "5cffe015",
   "metadata": {},
   "outputs": [],
   "source": [
    "# 22.\tWrite a program to print week day with match statement.\n",
    "def print_weekday(day_number):\n",
    "    match day_number:\n",
    "        case 1:\n",
    "            print(\"Monday\")\n",
    "        case 2:\n",
    "            print(\"Tuesday\")\n",
    "        case 3:\n",
    "            print(\"Wednesday\")\n",
    "        case 4:\n",
    "            print(\"Thursday\")\n",
    "        case 5:\n",
    "            print(\"Friday\")\n",
    "        case 6:\n",
    "            print(\"Saturday\")\n",
    "        case 7:\n",
    "            print(\"Sunday\")\n",
    "        case _:  \n",
    "            print(\"Invalid day number. Please enter a number between 1 and 7.\")\n",
    "\n",
    "# Example usage:\n",
    "print_weekday(3)  # Output: Wednesday\n",
    "print_weekday(7)  # Output: Sunday\n",
    "print_weekday(0)  # Output: Invalid day number. Please enter a number between 1 and 7."
   ]
  }
 ],
 "metadata": {
  "language_info": {
   "name": "python"
  }
 },
 "nbformat": 4,
 "nbformat_minor": 5
}
