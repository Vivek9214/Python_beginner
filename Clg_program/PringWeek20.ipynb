{
 "cells": [
  {
   "cell_type": "code",
   "execution_count": 4,
   "id": "25da8fda",
   "metadata": {},
   "outputs": [
    {
     "name": "stdout",
     "output_type": "stream",
     "text": [
      "Saturday\n"
     ]
    }
   ],
   "source": [
    "# 20.\tWrite a program to print week day with if and else.\n",
    "inpute = int(input(\"Enter a between 1 to 7 Number: \"))\n",
    "if inpute == 1:\n",
    "    print(\"Sunday\")\n",
    "elif inpute == 2:\n",
    "    print(\"Monday\")\n",
    "elif inpute == 3:\n",
    "    print(\"Tuesday\")\n",
    "elif inpute == 4:\n",
    "    print(\"Wednesday\")\n",
    "elif inpute == 5:\n",
    "    print(\"Thrusday\")\n",
    "elif inpute == 6:\n",
    "    print(\"Friday\")\n",
    "elif inpute == 7:\n",
    "    print(\"Saturday\")\n",
    "else :\n",
    "    print(\"Invalid Number\")"
   ]
  }
 ],
 "metadata": {
  "kernelspec": {
   "display_name": "base",
   "language": "python",
   "name": "python3"
  },
  "language_info": {
   "codemirror_mode": {
    "name": "ipython",
    "version": 3
   },
   "file_extension": ".py",
   "mimetype": "text/x-python",
   "name": "python",
   "nbconvert_exporter": "python",
   "pygments_lexer": "ipython3",
   "version": "3.12.7"
  }
 },
 "nbformat": 4,
 "nbformat_minor": 5
}
