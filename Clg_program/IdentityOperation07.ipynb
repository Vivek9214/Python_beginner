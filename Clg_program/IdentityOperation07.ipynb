{
 "cells": [
  {
   "cell_type": "code",
   "execution_count": 25,
   "id": "b76bada5-3cf5-427b-9b42-3fe894735b69",
   "metadata": {},
   "outputs": [
    {
     "name": "stdout",
     "output_type": "stream",
     "text": [
      "True\n"
     ]
    }
   ],
   "source": [
    "# 7.\tWrite a program to perform Identity operator.\n",
    "a = 2\n",
    "b = 2\n",
    "c = a is b #Python may reuse small integer objects for optimization\n",
    "print(c)"
   ]
  },
  {
   "cell_type": "code",
   "execution_count": 41,
   "id": "b329a0e0-64bd-46e8-9144-99823273005e",
   "metadata": {},
   "outputs": [
    {
     "name": "stdout",
     "output_type": "stream",
     "text": [
      "True\n",
      "False\n",
      "True\n"
     ]
    }
   ],
   "source": [
    "d = [1, 2, 3]\n",
    "e = d\n",
    "f = [1, 2, 3]\n",
    "print(d is e) # Output: True (x and y reference the same list)\n",
    "print(d is f) # Output: False ( x and y has different lists with same values)\n",
    "print(d == f) # Outpt: True ( x and y has same values)"
   ]
  },
  {
   "cell_type": "code",
   "execution_count": 47,
   "id": "602adecc-e5a2-40fc-896a-8366df55d8c6",
   "metadata": {},
   "outputs": [
    {
     "name": "stdout",
     "output_type": "stream",
     "text": [
      "False\n"
     ]
    }
   ],
   "source": [
    "g = \"Hello guys\"\n",
    "h = \"Hello guys\"\n",
    "print(d is e) # Output: True (string interning may lead to the same memory location)"
   ]
  },
  {
   "cell_type": "code",
   "execution_count": null,
   "id": "5d764025-8856-4aad-b16f-ea226380bd85",
   "metadata": {},
   "outputs": [],
   "source": []
  }
 ],
 "metadata": {
  "kernelspec": {
   "display_name": "Python [conda env:base] *",
   "language": "python",
   "name": "conda-base-py"
  },
  "language_info": {
   "codemirror_mode": {
    "name": "ipython",
    "version": 3
   },
   "file_extension": ".py",
   "mimetype": "text/x-python",
   "name": "python",
   "nbconvert_exporter": "python",
   "pygments_lexer": "ipython3",
   "version": "3.12.7"
  }
 },
 "nbformat": 4,
 "nbformat_minor": 5
}
