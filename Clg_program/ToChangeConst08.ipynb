{
 "cells": [
  {
   "cell_type": "code",
   "execution_count": 62,
   "id": "b2f67c4f-79ae-4a09-8655-eca785087df9",
   "metadata": {},
   "outputs": [],
   "source": [
    "# 8.\tWrite a program to generate an error when changing constant value.\n",
    "PI = 3.14159\n",
    "temp = PI\n",
    "if PI is not temp:\n",
    "    print(\"Error: You cannot change the value of constant PI\")\n",
    "PI = 3.14"
   ]
  },
  {
   "cell_type": "code",
   "execution_count": null,
   "id": "33783163-4819-4726-8e4f-b04fc1289b84",
   "metadata": {},
   "outputs": [],
   "source": []
  }
 ],
 "metadata": {
  "kernelspec": {
   "display_name": "Python [conda env:base] *",
   "language": "python",
   "name": "conda-base-py"
  },
  "language_info": {
   "codemirror_mode": {
    "name": "ipython",
    "version": 3
   },
   "file_extension": ".py",
   "mimetype": "text/x-python",
   "name": "python",
   "nbconvert_exporter": "python",
   "pygments_lexer": "ipython3",
   "version": "3.12.7"
  }
 },
 "nbformat": 4,
 "nbformat_minor": 5
}
