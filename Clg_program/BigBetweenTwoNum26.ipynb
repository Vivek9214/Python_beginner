{
 "cells": [
  {
   "cell_type": "code",
   "execution_count": 1,
   "id": "f72b6f95",
   "metadata": {},
   "outputs": [
    {
     "name": "stdout",
     "output_type": "stream",
     "text": [
      "12 is greater than b\n"
     ]
    }
   ],
   "source": [
    "# 26.\tWrite a program to find greatest between two number.\n",
    "a = 12\n",
    "b = 2\n",
    "if a > b:\n",
    "    print(a,\"is greater than b\")\n",
    "else:\n",
    "    print(b,\"is greater than a\")"
   ]
  }
 ],
 "metadata": {
  "kernelspec": {
   "display_name": "base",
   "language": "python",
   "name": "python3"
  },
  "language_info": {
   "codemirror_mode": {
    "name": "ipython",
    "version": 3
   },
   "file_extension": ".py",
   "mimetype": "text/x-python",
   "name": "python",
   "nbconvert_exporter": "python",
   "pygments_lexer": "ipython3",
   "version": "3.12.7"
  }
 },
 "nbformat": 4,
 "nbformat_minor": 5
}
