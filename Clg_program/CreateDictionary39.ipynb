{
 "cells": [
  {
   "cell_type": "code",
   "execution_count": 1,
   "id": "a571c39d",
   "metadata": {},
   "outputs": [
    {
     "name": "stdout",
     "output_type": "stream",
     "text": [
      "{1: 'Kunali', 2: 'Meet'}\n",
      "<class 'dict'>\n"
     ]
    }
   ],
   "source": [
    "# 39.\tWrite a program to create dictionary.\n",
    "dic = {1: \"Kunali\", 2: \"Meet\"}\n",
    "print(dic)\n",
    "print(type(dic))"
   ]
  }
 ],
 "metadata": {
  "kernelspec": {
   "display_name": "base",
   "language": "python",
   "name": "python3"
  },
  "language_info": {
   "codemirror_mode": {
    "name": "ipython",
    "version": 3
   },
   "file_extension": ".py",
   "mimetype": "text/x-python",
   "name": "python",
   "nbconvert_exporter": "python",
   "pygments_lexer": "ipython3",
   "version": "3.12.7"
  }
 },
 "nbformat": 4,
 "nbformat_minor": 5
}
