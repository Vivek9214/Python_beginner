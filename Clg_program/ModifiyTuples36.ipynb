{
 "cells": [
  {
   "cell_type": "code",
   "execution_count": null,
   "id": "9f356d3a",
   "metadata": {},
   "outputs": [
    {
     "name": "stdout",
     "output_type": "stream",
     "text": [
      "[1, 6, 3, 4, 5]\n",
      "(1, 2, 3, 4, 5, 2)\n",
      "[1, 6, 3, 5]\n"
     ]
    }
   ],
   "source": [
    "# 36.\tWrite a program to changing tuple after creation.\n",
    "tup = (1,2,3,4,5)\n",
    "temp_list = list(tup)\n",
    "\n",
    "#To Update element\n",
    "temp_list[1] = 6\n",
    "print(temp_list)\n",
    "\n",
    "#To Add element\n",
    "tup = tup + (2, )\n",
    "print(tup)\n",
    "\n",
    "#To remove element\n",
    "temp_list.remove(4)\n",
    "print(temp_list) "
   ]
  }
 ],
 "metadata": {
  "kernelspec": {
   "display_name": "base",
   "language": "python",
   "name": "python3"
  },
  "language_info": {
   "codemirror_mode": {
    "name": "ipython",
    "version": 3
   },
   "file_extension": ".py",
   "mimetype": "text/x-python",
   "name": "python",
   "nbconvert_exporter": "python",
   "pygments_lexer": "ipython3",
   "version": "3.12.7"
  }
 },
 "nbformat": 4,
 "nbformat_minor": 5
}
